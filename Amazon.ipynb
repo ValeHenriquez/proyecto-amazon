{
 "cells": [
  {
   "cell_type": "markdown",
   "metadata": {},
   "source": [
    "## Importar Librerias"
   ]
  },
  {
   "cell_type": "code",
   "execution_count": null,
   "metadata": {},
   "outputs": [],
   "source": [
    "from psycopg2 import connect, Error\n",
    "import pandas as pd\n",
    "import csv\n",
    "from io import StringIO\n",
    "import glob\n",
    "import functools\n"
   ]
  },
  {
   "cell_type": "markdown",
   "metadata": {},
   "source": [
    "## Conexion"
   ]
  },
  {
   "cell_type": "code",
   "execution_count": null,
   "metadata": {},
   "outputs": [],
   "source": [
    "def getConnection():\n",
    "    try:\n",
    "        connection = connect(host='localhost',database='amazon',user='postgres', password='1234', port='5432')   \n",
    "    except(Exception, Error) as error:\n",
    "        connection.rollback()\n",
    "        print(\"Error: %s\" % error)\n",
    "    return connection"
   ]
  },
  {
   "cell_type": "markdown",
   "metadata": {},
   "source": [
    "## Inserts query"
   ]
  },
  {
   "cell_type": "code",
   "execution_count": null,
   "metadata": {},
   "outputs": [],
   "source": [
    "def insert_query(query,data):\n",
    "    try:\n",
    "        con = getConnection()\n",
    "        if con and query != '':\n",
    "            cursor = con.cursor()\n",
    "            cursor.execute(query,data)\n",
    "        con.commit()\n",
    "    except(Exception, Error) as error:\n",
    "        print(\"Error: %s\" % error)"
   ]
  },
  {
   "cell_type": "markdown",
   "metadata": {},
   "source": [
    "## Cargar product_category"
   ]
  },
  {
   "cell_type": "code",
   "execution_count": null,
   "metadata": {},
   "outputs": [],
   "source": [
    "files = glob.glob('*.tsv')\n",
    "query = \"insert into category(category_name) values (%s)\"\n",
    "\n",
    "for file in files:\n",
    "    start = len(\"amazon_reviews_us_\")\n",
    "    end = file.index(\"_v1_00.tsv\")\n",
    "    name = file[start:end]\n",
    "    insert_query(query, (name,))\n"
   ]
  },
  {
   "cell_type": "markdown",
   "metadata": {},
   "source": [
    "## Crear output para cargar en la base de datos"
   ]
  },
  {
   "cell_type": "code",
   "execution_count": null,
   "metadata": {},
   "outputs": [],
   "source": [
    "def to_database(dataframe,table):\n",
    "    output = StringIO()\n",
    "    dataframe.to_csv(output, sep='\\t', index = False, header = False, quoting=csv.QUOTE_NONE, escapechar='\\\\')\n",
    "    output.seek(0)\n",
    "    connection = getConnection()\n",
    "    cursor = connection.cursor()\n",
    "    cursor.copy_from(output,table,null='')\n",
    "    connection.commit()\n",
    "    cursor.close()"
   ]
  },
  {
   "cell_type": "markdown",
   "metadata": {},
   "source": [
    "## Cargar Customer"
   ]
  },
  {
   "cell_type": "code",
   "execution_count": null,
   "metadata": {},
   "outputs": [],
   "source": [
    "df_customers_id = pd.concat(map(functools.partial(pd.read_csv, sep='\\t',on_bad_lines='skip',usecols=[1]),glob.glob('*.tsv')))\n",
    "df_customers_id = df_customers_id.drop_duplicates(subset=\"customer_id\")\n",
    "\n",
    "to_database(df_customers_id,\"customer\")\n"
   ]
  },
  {
   "cell_type": "markdown",
   "metadata": {},
   "source": [
    "## Cargar Product"
   ]
  },
  {
   "cell_type": "code",
   "execution_count": null,
   "metadata": {},
   "outputs": [],
   "source": [
    "df_products = pd.concat(map(functools.partial(pd.read_csv, sep='\\t',on_bad_lines='skip',usecols=[3,4,5,6]),glob.glob('*.tsv')))\n",
    "df_products = df_products.drop_duplicates(subset=\"product_id\")\n",
    "\n",
    "to_database(df_products,\"product\")"
   ]
  },
  {
   "cell_type": "markdown",
   "metadata": {},
   "source": [
    "## Cargar Review"
   ]
  },
  {
   "cell_type": "code",
   "execution_count": null,
   "metadata": {},
   "outputs": [],
   "source": [
    "#Se leen todos los archivos que se encuentren en la carpeta terminados en .tsv\n",
    "\n",
    "df_products = pd.concat(map(functools.partial(pd.read_csv, sep='\\t',on_bad_lines='skip',usecols=[2,7,8,9,10,11,12,13,14]),glob.glob('*.tsv')))\n",
    "\n"
   ]
  }
 ],
 "metadata": {
  "kernelspec": {
   "display_name": "Python 3.9.12 ('base')",
   "language": "python",
   "name": "python3"
  },
  "language_info": {
   "codemirror_mode": {
    "name": "ipython",
    "version": 3
   },
   "file_extension": ".py",
   "mimetype": "text/x-python",
   "name": "python",
   "nbconvert_exporter": "python",
   "pygments_lexer": "ipython3",
   "version": "3.9.12"
  },
  "orig_nbformat": 4,
  "vscode": {
   "interpreter": {
    "hash": "2b5b6f1490470301d5ec47ad17c699a8ab02c87bbe339da8f152fa3206ff01e6"
   }
  }
 },
 "nbformat": 4,
 "nbformat_minor": 2
}
